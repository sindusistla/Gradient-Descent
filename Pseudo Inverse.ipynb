{
 "cells": [
  {
   "cell_type": "code",
   "execution_count": 45,
   "metadata": {},
   "outputs": [
    {
     "name": "stdout",
     "output_type": "stream",
     "text": [
      "\n",
      "    1     6     4\n",
      "    1    10     4\n",
      "    1    12     5\n",
      "    1    14     7\n",
      "    1    16     9\n",
      "    1    18    12\n",
      "    1    22    14\n",
      "    1    24    20\n",
      "    1    26    21\n",
      "    1    32    24\n",
      "[torch.LongTensor of size 10x3]\n",
      "\n",
      "\n",
      "   40\n",
      "   44\n",
      "   46\n",
      "   48\n",
      "   52\n",
      "   58\n",
      "   60\n",
      "   68\n",
      "   74\n",
      "   80\n",
      "[torch.LongTensor of size 10x1]\n",
      "\n"
     ]
    }
   ],
   "source": [
    "import torch\n",
    "import pandas as pd\n",
    "import numpy as np\n",
    "\n",
    "#(\"Bias\",[1,1,1,1,1,1,1,1,1,1]),\n",
    "# Into pandas dataframe\n",
    "Farm=pd.DataFrame.from_items([(\"Bias\",[1,1,1,1,1,1,1,1,1,1]),('Fertilizers',[6,10,12,14,16,18,22,24,26,32]),('Inseticides',[4,4,5,7,9,12,14,20,21,24])])\n",
    "Farm_y=pd.DataFrame.from_items([(\"Corn\",[40,44,46,48,52,58,60,68,74,80])])\n",
    "\n",
    "'''Farm = (Farm - Farm.mean())/Farm.std()\n",
    "Farm_y = (Farm_y - Farm_y.mean())/Farm_y.std()\n",
    "\n",
    "# concatenate ones \n",
    "Farm = Farm.iloc[:,0:2]\n",
    "ones = np.ones([Farm.shape[0],1])\n",
    "Farm = np.concatenate((ones,Farm),axis=1)'''\n",
    "\n",
    "# Numpy array\n",
    "Farm_array=Farm.as_matrix()\n",
    "Farm_y_array=Farm_y.as_matrix()\n",
    "#print(Farm_array)\n",
    "\n",
    "# Numpy array to tensor \n",
    "Farm_tensor=torch.from_numpy(Farm_array)\n",
    "Farm_y_tensor=torch.from_numpy(Farm_y_array)\n",
    "print(Farm_tensor)\n",
    "print(Farm_y_tensor)\n",
    "\n",
    "# Find Inverse \n"
   ]
  },
  {
   "cell_type": "code",
   "execution_count": null,
   "metadata": {
    "collapsed": true
   },
   "outputs": [],
   "source": []
  },
  {
   "cell_type": "code",
   "execution_count": 46,
   "metadata": {},
   "outputs": [
    {
     "name": "stdout",
     "output_type": "stream",
     "text": [
      "\n",
      "    1     1     1     1     1     1     1     1     1     1\n",
      "    6    10    12    14    16    18    22    24    26    32\n",
      "    4     4     5     7     9    12    14    20    21    24\n",
      "[torch.LongTensor of size 3x10]\n",
      " \n",
      "    1     6     4\n",
      "    1    10     4\n",
      "    1    12     5\n",
      "    1    14     7\n",
      "    1    16     9\n",
      "    1    18    12\n",
      "    1    22    14\n",
      "    1    24    20\n",
      "    1    26    21\n",
      "    1    32    24\n",
      "[torch.LongTensor of size 10x3]\n",
      "\n"
     ]
    }
   ],
   "source": [
    "# Now we need to find the pSeudo Inverse\n",
    "#------------------------------------------------------------------------------\n",
    "# Numpy transpose Find Transpose\n",
    "Farm_array_transpose=np.transpose(Farm_array)\n",
    "#print(Farm_array_transpose)\n",
    "#------------------------------------------------------------------------------\n",
    "tensor_transpose=torch.transpose(Farm_tensor,0,1)\n",
    "print(tensor_transpose,Farm_tensor)\n",
    "#Tranpose using torch"
   ]
  },
  {
   "cell_type": "code",
   "execution_count": 47,
   "metadata": {},
   "outputs": [
    {
     "name": "stdout",
     "output_type": "stream",
     "text": [
      "\n",
      "   10   180   120\n",
      "  180  3816  2684\n",
      "  120  2684  1944\n",
      "[torch.DoubleTensor of size 3x3]\n",
      "\n"
     ]
    }
   ],
   "source": [
    "# Calculate AT * A\n",
    "\n",
    "TransOrig=torch.mm(tensor_transpose,Farm_tensor).double()\n",
    "print(TransOrig)"
   ]
  },
  {
   "cell_type": "code",
   "execution_count": 48,
   "metadata": {},
   "outputs": [
    {
     "name": "stdout",
     "output_type": "stream",
     "text": [
      "\n",
      " 1.3635 -0.1770  0.1602\n",
      "-0.1770  0.0320 -0.0333\n",
      " 0.1602 -0.0333  0.0366\n",
      "[torch.DoubleTensor of size 3x3]\n",
      "\n"
     ]
    }
   ],
   "source": [
    "# Take inverse \n",
    "TransOrig_Inverse=torch.inverse(TransOrig)\n",
    "print(TransOrig_Inverse)\n",
    "\n",
    "Original=torch.mm(TransOrig,TransOrig_Inverse)\n",
    "#print(Original)"
   ]
  },
  {
   "cell_type": "code",
   "execution_count": 49,
   "metadata": {},
   "outputs": [
    {
     "name": "stdout",
     "output_type": "stream",
     "text": [
      "\n",
      " 0.9423  0.2343  0.0405  0.0069 -0.0267  0.1000 -0.2876  0.3197  0.1259 -0.4554\n",
      "-0.1180  0.0102  0.0409  0.0384  0.0359  0.0000  0.0615 -0.0743 -0.0435  0.0488\n",
      " 0.1068 -0.0264 -0.0565 -0.0498 -0.0432  0.0000 -0.0600  0.0931  0.0631 -0.0270\n",
      "[torch.DoubleTensor of size 3x10]\n",
      "\n"
     ]
    }
   ],
   "source": [
    "# Take the transOrig_inverse multiply with XT\n",
    "tensor_transpose=tensor_transpose.double()\n",
    "TransOrig_Inverse_Tran= torch.mm(TransOrig_Inverse,tensor_transpose)\n",
    "print(TransOrig_Inverse_Tran)"
   ]
  },
  {
   "cell_type": "code",
   "execution_count": 50,
   "metadata": {},
   "outputs": [
    {
     "name": "stdout",
     "output_type": "stream",
     "text": [
      "\n",
      " 31.9807\n",
      "  0.6501\n",
      "  1.1099\n",
      "[torch.DoubleTensor of size 3x1]\n",
      "\n"
     ]
    }
   ],
   "source": [
    "# Multiply this with y to get weight vector\n",
    "Farm_y_tensor=Farm_y_tensor.double()\n",
    "Weight=torch.mm(TransOrig_Inverse_Tran,Farm_y_tensor)\n",
    "\n",
    "print(Weight)"
   ]
  },
  {
   "cell_type": "code",
   "execution_count": 51,
   "metadata": {},
   "outputs": [
    {
     "name": "stdout",
     "output_type": "stream",
     "text": [
      "31.98067141403859 0.6500508646999523 1.1098677517802567\n"
     ]
    }
   ],
   "source": [
    "# Calculate y_prediction y_pred= w0 + w1X1 + w2+X2\n",
    "print(Weight[0,0],Weight[1,0],Weight[2,0])\n"
   ]
  },
  {
   "cell_type": "code",
   "execution_count": 52,
   "metadata": {},
   "outputs": [
    {
     "data": {
      "text/plain": [
       "\n",
       "    1     6     4\n",
       "    1    10     4\n",
       "    1    12     5\n",
       "    1    14     7\n",
       "    1    16     9\n",
       "    1    18    12\n",
       "    1    22    14\n",
       "    1    24    20\n",
       "    1    26    21\n",
       "    1    32    24\n",
       "[torch.LongTensor of size 10x3]"
      ]
     },
     "execution_count": 52,
     "metadata": {},
     "output_type": "execute_result"
    }
   ],
   "source": [
    "Farm_tensor\n"
   ]
  },
  {
   "cell_type": "code",
   "execution_count": 53,
   "metadata": {},
   "outputs": [
    {
     "data": {
      "text/plain": [
       "\n",
       "    6\n",
       "   10\n",
       "   12\n",
       "   14\n",
       "   16\n",
       "   18\n",
       "   22\n",
       "   24\n",
       "   26\n",
       "   32\n",
       "[torch.FloatTensor of size 10x1]"
      ]
     },
     "execution_count": 53,
     "metadata": {},
     "output_type": "execute_result"
    }
   ],
   "source": [
    "x1=Farm_tensor[:,1:2].float()\n",
    "x1"
   ]
  },
  {
   "cell_type": "code",
   "execution_count": 54,
   "metadata": {},
   "outputs": [
    {
     "data": {
      "text/plain": [
       "\n",
       "    4\n",
       "    4\n",
       "    5\n",
       "    7\n",
       "    9\n",
       "   12\n",
       "   14\n",
       "   20\n",
       "   21\n",
       "   24\n",
       "[torch.FloatTensor of size 10x1]"
      ]
     },
     "execution_count": 54,
     "metadata": {},
     "output_type": "execute_result"
    }
   ],
   "source": [
    "x2=Farm_tensor[:,2:3].float()\n",
    "x2"
   ]
  },
  {
   "cell_type": "code",
   "execution_count": 55,
   "metadata": {},
   "outputs": [
    {
     "data": {
      "text/plain": [
       "\n",
       " 0.6501\n",
       " 0.6501\n",
       " 0.6501\n",
       " 0.6501\n",
       " 0.6501\n",
       " 0.6501\n",
       " 0.6501\n",
       " 0.6501\n",
       " 0.6501\n",
       " 0.6501\n",
       "[torch.FloatTensor of size 10x1]"
      ]
     },
     "execution_count": 55,
     "metadata": {},
     "output_type": "execute_result"
    }
   ],
   "source": [
    "W1=torch.randn(10,1)\n",
    "W1=W1.fill_(Weight[1,0])\n",
    "#W1=torch.transpose(W1,1,0)\n",
    "W1"
   ]
  },
  {
   "cell_type": "code",
   "execution_count": 56,
   "metadata": {},
   "outputs": [
    {
     "data": {
      "text/plain": [
       "\n",
       "  3.9003\n",
       "  6.5005\n",
       "  7.8006\n",
       "  9.1007\n",
       " 10.4008\n",
       " 11.7009\n",
       " 14.3011\n",
       " 15.6012\n",
       " 16.9013\n",
       " 20.8016\n",
       "[torch.FloatTensor of size 10x1]"
      ]
     },
     "execution_count": 56,
     "metadata": {},
     "output_type": "execute_result"
    }
   ],
   "source": [
    "First_term=torch.randn(10,1)\n",
    "First_term=First_term.fill_(0)\n",
    "First_term=torch.addcmul(First_term,1,x1,W1)\n",
    "First_term"
   ]
  },
  {
   "cell_type": "code",
   "execution_count": 57,
   "metadata": {
    "collapsed": true
   },
   "outputs": [],
   "source": [
    "W2=torch.randn(10,1)\n",
    "W2=W1.fill_(Weight[2,0])\n",
    "\n"
   ]
  },
  {
   "cell_type": "code",
   "execution_count": 58,
   "metadata": {},
   "outputs": [
    {
     "data": {
      "text/plain": [
       "\n",
       "  4.4395\n",
       "  4.4395\n",
       "  5.5493\n",
       "  7.7691\n",
       "  9.9888\n",
       " 13.3184\n",
       " 15.5381\n",
       " 22.1974\n",
       " 23.3072\n",
       " 26.6368\n",
       "[torch.FloatTensor of size 10x1]"
      ]
     },
     "execution_count": 58,
     "metadata": {},
     "output_type": "execute_result"
    }
   ],
   "source": [
    "Second_term=torch.randn(10,1)\n",
    "Second_term=Second_term.fill_(0)\n",
    "Second_term=torch.addcmul(Second_term,1,x2,W2)\n",
    "Second_term"
   ]
  },
  {
   "cell_type": "code",
   "execution_count": 59,
   "metadata": {},
   "outputs": [
    {
     "data": {
      "text/plain": [
       "\n",
       " 31.9807\n",
       " 31.9807\n",
       " 31.9807\n",
       " 31.9807\n",
       " 31.9807\n",
       " 31.9807\n",
       " 31.9807\n",
       " 31.9807\n",
       " 31.9807\n",
       " 31.9807\n",
       "[torch.FloatTensor of size 10]"
      ]
     },
     "execution_count": 59,
     "metadata": {},
     "output_type": "execute_result"
    }
   ],
   "source": [
    "W0=torch.randn(10,0)\n",
    "W0=W0.fill_(Weight[0,0])\n",
    "W0"
   ]
  },
  {
   "cell_type": "code",
   "execution_count": 60,
   "metadata": {},
   "outputs": [
    {
     "name": "stdout",
     "output_type": "stream",
     "text": [
      "\n",
      " 40.3204\n",
      " 42.9207\n",
      " 45.3306\n",
      " 48.8505\n",
      " 52.3703\n",
      " 57.0000\n",
      " 61.8199\n",
      " 69.7793\n",
      " 72.1892\n",
      " 79.4191\n",
      "[torch.FloatTensor of size 10x1]\n",
      "\n",
      "\n",
      "   40\n",
      "   44\n",
      "   46\n",
      "   48\n",
      "   52\n",
      "   58\n",
      "   60\n",
      "   68\n",
      "   74\n",
      "   80\n",
      "[torch.DoubleTensor of size 10x1]\n",
      "\n"
     ]
    }
   ],
   "source": [
    "# W0 + First_term + Second_term\n",
    "yPred=W0+First_term+Second_term\n",
    "print(yPred[:,0:1])\n",
    "print(Farm_y_tensor)"
   ]
  },
  {
   "cell_type": "code",
   "execution_count": 61,
   "metadata": {
    "scrolled": true
   },
   "outputs": [
    {
     "name": "stdout",
     "output_type": "stream",
     "text": [
      "\n",
      "-0.3204\n",
      " 1.0793\n",
      " 0.6694\n",
      "-0.8505\n",
      "-0.3703\n",
      " 1.0000\n",
      "-1.8199\n",
      "-1.7793\n",
      " 1.8108\n",
      " 0.5809\n",
      "[torch.FloatTensor of size 10x1]\n",
      "\n"
     ]
    }
   ],
   "source": [
    "#print(yPred[:,0:1])\n",
    "diff=Farm_y_tensor.float()-yPred[:,0:1].float()\n",
    "print(diff)"
   ]
  }
 ],
 "metadata": {
  "kernelspec": {
   "display_name": "Python 3",
   "language": "python",
   "name": "python3"
  },
  "language_info": {
   "codemirror_mode": {
    "name": "ipython",
    "version": 3
   },
   "file_extension": ".py",
   "mimetype": "text/x-python",
   "name": "python",
   "nbconvert_exporter": "python",
   "pygments_lexer": "ipython3",
   "version": "3.6.1"
  }
 },
 "nbformat": 4,
 "nbformat_minor": 2
}
